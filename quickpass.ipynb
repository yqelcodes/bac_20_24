{
 "cells": [
  {
   "cell_type": "markdown",
   "id": "429ba643-23af-4d9a-b89d-0af26f740bb4",
   "metadata": {},
   "source": [
    "#### Задача 1 (6 баллов). \n",
    "\n",
    "Напишем игру \"ферма\". Наш игрок - экземпляр класса \"фермер\", у которого есть имя, стартовая сумма денег и объект класса \"ферма\". У объекта класса \"ферма\" есть жилплощадь (для самого фермера), а также могут быть поле для картошки, например (с площадью), огород под огурцы, постройки для домашних животных (с вместимостью). Наш фермер может покупать семена и животных, собирать урожай и взаимодействовать с животными (коров можно доить, свиней можно зарезать и продать мясо). Игра консольная, поэтому придется выводить нужную информацию через запросы игрока (игрок может захотеть знать, сколько у него есть животных, какие у него есть огороды-поля и так далее). \n",
    "\n",
    "Можно не строго следовать описанию, а использовать фантазию. Если мне очень понравится, могу приплюсовать балл."
   ]
  },
  {
   "cell_type": "code",
   "execution_count": 6,
   "id": "05083c70-9397-430e-980a-bb700a345a7e",
   "metadata": {},
   "outputs": [
    {
     "name": "stdout",
     "output_type": "stream",
     "text": [
      "\n",
      "Выберите действие:\n",
      "1. Купить семена\n",
      "2. Купить животных\n",
      "3. Собрать урожай\n",
      "4. Взаимодействовать с животными\n",
      "5. Выйти из игры\n",
      "2 семян картошка куплено.\n",
      "\n",
      "Выберите действие:\n",
      "1. Купить семена\n",
      "2. Купить животных\n",
      "3. Собрать урожай\n",
      "4. Взаимодействовать с животными\n",
      "5. Выйти из игры\n",
      "Некорректный выбор. Пожалуйста, выберите действие из списка.\n",
      "\n",
      "Выберите действие:\n",
      "1. Купить семена\n",
      "2. Купить животных\n",
      "3. Собрать урожай\n",
      "4. Взаимодействовать с животными\n",
      "5. Выйти из игры\n",
      "Некорректный выбор. Пожалуйста, выберите действие из списка.\n",
      "\n",
      "Выберите действие:\n",
      "1. Купить семена\n",
      "2. Купить животных\n",
      "3. Собрать урожай\n",
      "4. Взаимодействовать с животными\n",
      "5. Выйти из игры\n",
      "Некорректный выбор. Пожалуйста, выберите действие из списка.\n",
      "\n",
      "Выберите действие:\n",
      "1. Купить семена\n",
      "2. Купить животных\n",
      "3. Собрать урожай\n",
      "4. Взаимодействовать с животными\n",
      "5. Выйти из игры\n",
      "1 1 куплено.\n",
      "\n",
      "Выберите действие:\n",
      "1. Купить семена\n",
      "2. Купить животных\n",
      "3. Собрать урожай\n",
      "4. Взаимодействовать с животными\n",
      "5. Выйти из игры\n",
      "4 семян 1 куплено.\n",
      "\n",
      "Выберите действие:\n",
      "1. Купить семена\n",
      "2. Купить животных\n",
      "3. Собрать урожай\n",
      "4. Взаимодействовать с животными\n",
      "5. Выйти из игры\n",
      "Выход из игры.\n"
     ]
    }
   ],
   "source": [
    "import time\n",
    "\n",
    "class Farmer:\n",
    "    def __init__(self, name, money):\n",
    "        self.name = name\n",
    "        self.money = money\n",
    "        self.farm = Farm()\n",
    "\n",
    "    def buy_seed(self, crop_type, quantity, cost_per_unit):\n",
    "        cost = quantity * cost_per_unit\n",
    "        if self.money >= cost:\n",
    "            self.money -= cost\n",
    "            self.farm.add_crop(crop_type, quantity)\n",
    "            print(f\"{quantity} семян {crop_type} куплено.\")\n",
    "        else:\n",
    "            print(\"Недостаточно денег для покупки семян.\")\n",
    "\n",
    "    def buy_animal(self, animal_type, quantity, cost_per_animal):\n",
    "        cost = quantity * cost_per_animal\n",
    "        if self.money >= cost:\n",
    "            self.money -= cost\n",
    "            self.farm.add_animal(animal_type, quantity)\n",
    "            print(f\"{quantity} {animal_type} куплено.\")\n",
    "        else:\n",
    "            print(\"Недостаточно денег для покупки животных.\")\n",
    "\n",
    "    def harvest(self, crop_type, quantity):\n",
    "        harvested = self.farm.harvest(crop_type, quantity)\n",
    "        self.money += harvested * crop_prices[crop_type]\n",
    "        print(f\"Собрано {harvested} {crop_type}.\")\n",
    "\n",
    "    def interact_with_animals(self, animal_type, action):\n",
    "        if action == \"доить\" and animal_type == \"корова\":\n",
    "            milk = self.farm.milk_cow()\n",
    "            self.money += milk * milk_price\n",
    "            print(f\"Получено {milk} литров молока.\")\n",
    "        elif action == \"зарезать\" and animal_type == \"свинья\":\n",
    "            meat = self.farm.slaughter_pig()\n",
    "            self.money += meat * meat_price\n",
    "            print(f\"Получено {meat} килограммов мяса.\")\n",
    "        else:\n",
    "            print(f\"Невозможно выполнить это действие над {animal_type}.\")\n",
    "\n",
    "class Farm:\n",
    "    def __init__(self):\n",
    "        self.house = House()\n",
    "        self.fields = {}\n",
    "        self.garden = {}\n",
    "        self.buildings = {}\n",
    "\n",
    "    def add_crop(self, crop_type, quantity):\n",
    "        if crop_type in self.fields:\n",
    "            self.fields[crop_type] += quantity\n",
    "        else:\n",
    "            self.fields[crop_type] = quantity\n",
    "\n",
    "    def add_animal(self, animal_type, quantity):\n",
    "        if animal_type in self.buildings:\n",
    "            if animal_type in self.buildings:\n",
    "                self.buildings[animal_type] += quantity\n",
    "            else:\n",
    "                self.buildings[animal_type] = quantity\n",
    "\n",
    "    def harvest(self, crop_type, quantity):\n",
    "        if crop_type in self.fields and self.fields[crop_type] >= quantity:\n",
    "            self.fields[crop_type] -= quantity\n",
    "            return quantity\n",
    "        else:\n",
    "            available_quantity = self.fields.get(crop_type, 0)\n",
    "            print(f\"У вас нет столько {crop_type}. У вас есть только {available_quantity}.\")\n",
    "            return 0\n",
    "\n",
    "    def milk_cow(self):\n",
    "        if \"коровник\" in self.buildings and self.buildings[\"коровник\"] > 0:\n",
    "            self.buildings[\"коровник\"] -= 1\n",
    "            return 5  \n",
    "        else:\n",
    "            print(\"У вас нет коров для дойки.\")\n",
    "            return 0\n",
    "\n",
    "    def slaughter_pig(self):\n",
    "        if \"свинарник\" in self.buildings and self.buildings[\"свинарник\"] > 0:\n",
    "            self.buildings[\"свинарник\"] -= 1\n",
    "            return 20  \n",
    "        else:\n",
    "            print(\"У вас нет свиней для забоя.\")\n",
    "            return 0\n",
    "\n",
    "class House:\n",
    "    def __init__(self):\n",
    "        self.capacity = 1  \n",
    "\n",
    "crop_prices = {\n",
    "    \"картошка\": 2,\n",
    "    \"огурцы\": 3,\n",
    "}\n",
    "\n",
    "milk_price = 1  \n",
    "meat_price = 5  \n",
    "\n",
    "def main():\n",
    "    player_name = input(\"Введите имя фермера: \")\n",
    "    player = Farmer(name=player_name, money=1000)\n",
    "\n",
    "    while True:\n",
    "        print(\"\\nВыберите действие:\")\n",
    "        print(\"1. Купить семена\")\n",
    "        print(\"2. Купить животных\")\n",
    "        print(\"3. Собрать урожай\")\n",
    "        print(\"4. Взаимодействовать с животными\")\n",
    "        print(\"5. Выйти из игры\")\n",
    "        \n",
    "        choice = input(\"Ваш выбор: \")\n",
    "\n",
    "        if choice == \"1\":\n",
    "            crop_type = input(\"Введите тип семян (например, 'картошка'): \")\n",
    "            quantity = int(input(\"Введите количество семян: \"))\n",
    "            cost_per_unit = int(input(\"Введите стоимость одного семени: \"))\n",
    "            player.buy_seed(crop_type, quantity, cost_per_unit)\n",
    "        elif choice == \"2\":\n",
    "            animal_type = input(\"Введите тип животного (например, 'корова'): \")\n",
    "            quantity = int(input(\"Введите количество животных: \"))\n",
    "            cost_per_animal = int(input(\"Введите стоимость одного животного: \"))\n",
    "            player.buy_animal(animal_type, quantity, cost_per_animal)\n",
    "        elif choice == \"3\":\n",
    "            crop_type = input(\"Введите тип урожая для сбора (например, 'картошка'): \")\n",
    "            quantity = int(input(\"Введите количество для сбора: \"))\n",
    "            player.harvest(crop_type, quantity)\n",
    "        elif choice == \"4\":\n",
    "            animal_type = input(\"Введите тип животного для взаимодействия (например, 'корова'): \")\n",
    "            action = input(\"Введите действие (доить/зарезать): \")\n",
    "            player.interact_with_animals(animal_type, action)\n",
    "        elif choice == \"5\":\n",
    "            print(\"Выход из игры.\")\n",
    "            break\n",
    "        else:\n",
    "            print(\"Некорректный выбор. Пожалуйста, выберите действие из списка.\")\n",
    "\n",
    "if __name__ == \"__main__\":\n",
    "    main()\n"
   ]
  },
  {
   "cell_type": "markdown",
   "id": "884977e4-7eeb-44d5-a8b8-a3b8dab1607a",
   "metadata": {},
   "source": [
    "#### Задача 2 (6 баллов). \n",
    "\n",
    "Напишите программу - примитивного голосового помощника, задача которого - помогать пользователю изучать выбранный язык. Такая программа должна уметь следующие вещи: \n",
    "\n",
    "- разговаривать с пользователем голосом (и распознавать его речь)\n",
    "- знать команды \"переведи\" и \"зачитай вслух\". Обе команды заставляют программу предложить пользователю ввести текст, который потом переводится и/или зачитывается программой. \n",
    "- знать команду \"практика\": программа предлагает пользователю небольшой текст, выбранный случайным образом из базы данных программы. Пользователь должен зачитать текст вслух, а программа должна сравнить распознанный голос пользователя с исходным текстом и сообщить, если не совпало. \n",
    "- опционально можно добавить функцию для ручного пополнения базы данных. \n",
    "\n",
    "Язык выбираете какой угодно (из поддерживаемых библиотеками, конечно). "
   ]
  },
  {
   "cell_type": "code",
   "execution_count": 26,
   "id": "fc82f679-4dec-4a30-b015-019f5726a31d",
   "metadata": {},
   "outputs": [
    {
     "name": "stdout",
     "output_type": "stream",
     "text": [
      "Чем могу помочь?\n",
      "Говорите что-нибудь...\n",
      "Произошла ошибка при запросе к сервису распознавания: recognition request failed: Bad Request\n",
      "Чем могу помочь?\n",
      "Говорите что-нибудь...\n",
      "Произошла ошибка при запросе к сервису распознавания: recognition request failed: Bad Request\n",
      "Чем могу помочь?\n",
      "Говорите что-нибудь...\n",
      "Произошла ошибка при запросе к сервису распознавания: recognition request failed: Bad Request\n",
      "Чем могу помочь?\n",
      "Говорите что-нибудь...\n",
      "Произошла ошибка при запросе к сервису распознавания: recognition request failed: Bad Request\n",
      "Чем могу помочь?\n",
      "Говорите что-нибудь...\n",
      "Произошла ошибка при запросе к сервису распознавания: recognition request failed: Bad Request\n",
      "Чем могу помочь?\n",
      "Говорите что-нибудь...\n"
     ]
    },
    {
     "ename": "KeyboardInterrupt",
     "evalue": "",
     "output_type": "error",
     "traceback": [
      "\u001b[0;31m---------------------------------------------------------------------------\u001b[0m",
      "\u001b[0;31mKeyboardInterrupt\u001b[0m                         Traceback (most recent call last)",
      "\u001b[1;32m/Users/ruabrsj/Desktop/personal/school/bac20-24/7 term/00 - Quickpass/quickpass.ipynb Cell 4\u001b[0m line \u001b[0;36m9\n\u001b[1;32m     <a href='vscode-notebook-cell:/Users/ruabrsj/Desktop/personal/school/bac20-24/7%20term/00%20-%20Quickpass/quickpass.ipynb#W3sZmlsZQ%3D%3D?line=92'>93</a>\u001b[0m     conn\u001b[39m.\u001b[39mclose()\n\u001b[1;32m     <a href='vscode-notebook-cell:/Users/ruabrsj/Desktop/personal/school/bac20-24/7%20term/00%20-%20Quickpass/quickpass.ipynb#W3sZmlsZQ%3D%3D?line=94'>95</a>\u001b[0m \u001b[39mif\u001b[39;00m \u001b[39m__name__\u001b[39m \u001b[39m==\u001b[39m \u001b[39m\"\u001b[39m\u001b[39m__main__\u001b[39m\u001b[39m\"\u001b[39m:\n\u001b[0;32m---> <a href='vscode-notebook-cell:/Users/ruabrsj/Desktop/personal/school/bac20-24/7%20term/00%20-%20Quickpass/quickpass.ipynb#W3sZmlsZQ%3D%3D?line=95'>96</a>\u001b[0m     main()\n",
      "\u001b[1;32m/Users/ruabrsj/Desktop/personal/school/bac20-24/7 term/00 - Quickpass/quickpass.ipynb Cell 4\u001b[0m line \u001b[0;36m5\n\u001b[1;32m     <a href='vscode-notebook-cell:/Users/ruabrsj/Desktop/personal/school/bac20-24/7%20term/00%20-%20Quickpass/quickpass.ipynb#W3sZmlsZQ%3D%3D?line=51'>52</a>\u001b[0m \u001b[39mwhile\u001b[39;00m \u001b[39mTrue\u001b[39;00m:\n\u001b[1;32m     <a href='vscode-notebook-cell:/Users/ruabrsj/Desktop/personal/school/bac20-24/7%20term/00%20-%20Quickpass/quickpass.ipynb#W3sZmlsZQ%3D%3D?line=52'>53</a>\u001b[0m     \u001b[39mprint\u001b[39m(\u001b[39m\"\u001b[39m\u001b[39mЧем могу помочь?\u001b[39m\u001b[39m\"\u001b[39m)\n\u001b[0;32m---> <a href='vscode-notebook-cell:/Users/ruabrsj/Desktop/personal/school/bac20-24/7%20term/00%20-%20Quickpass/quickpass.ipynb#W3sZmlsZQ%3D%3D?line=53'>54</a>\u001b[0m     user_input \u001b[39m=\u001b[39m recognize_speech()\u001b[39m.\u001b[39mlower()\n\u001b[1;32m     <a href='vscode-notebook-cell:/Users/ruabrsj/Desktop/personal/school/bac20-24/7%20term/00%20-%20Quickpass/quickpass.ipynb#W3sZmlsZQ%3D%3D?line=55'>56</a>\u001b[0m     \u001b[39mif\u001b[39;00m \u001b[39m\"\u001b[39m\u001b[39mпереведи\u001b[39m\u001b[39m\"\u001b[39m \u001b[39min\u001b[39;00m user_input:\n\u001b[1;32m     <a href='vscode-notebook-cell:/Users/ruabrsj/Desktop/personal/school/bac20-24/7%20term/00%20-%20Quickpass/quickpass.ipynb#W3sZmlsZQ%3D%3D?line=56'>57</a>\u001b[0m         \u001b[39mprint\u001b[39m(\u001b[39m\"\u001b[39m\u001b[39mГоворите текст для перевода:\u001b[39m\u001b[39m\"\u001b[39m)\n",
      "\u001b[1;32m/Users/ruabrsj/Desktop/personal/school/bac20-24/7 term/00 - Quickpass/quickpass.ipynb Cell 4\u001b[0m line \u001b[0;36m3\n\u001b[1;32m     <a href='vscode-notebook-cell:/Users/ruabrsj/Desktop/personal/school/bac20-24/7%20term/00%20-%20Quickpass/quickpass.ipynb#W3sZmlsZQ%3D%3D?line=27'>28</a>\u001b[0m \u001b[39mwith\u001b[39;00m sr\u001b[39m.\u001b[39mMicrophone() \u001b[39mas\u001b[39;00m source:\n\u001b[1;32m     <a href='vscode-notebook-cell:/Users/ruabrsj/Desktop/personal/school/bac20-24/7%20term/00%20-%20Quickpass/quickpass.ipynb#W3sZmlsZQ%3D%3D?line=28'>29</a>\u001b[0m     \u001b[39mprint\u001b[39m(\u001b[39m\"\u001b[39m\u001b[39mГоворите что-нибудь...\u001b[39m\u001b[39m\"\u001b[39m)\n\u001b[0;32m---> <a href='vscode-notebook-cell:/Users/ruabrsj/Desktop/personal/school/bac20-24/7%20term/00%20-%20Quickpass/quickpass.ipynb#W3sZmlsZQ%3D%3D?line=29'>30</a>\u001b[0m     audio \u001b[39m=\u001b[39m recognizer\u001b[39m.\u001b[39;49mlisten(source)\n\u001b[1;32m     <a href='vscode-notebook-cell:/Users/ruabrsj/Desktop/personal/school/bac20-24/7%20term/00%20-%20Quickpass/quickpass.ipynb#W3sZmlsZQ%3D%3D?line=30'>31</a>\u001b[0m     \u001b[39mtry\u001b[39;00m:\n\u001b[1;32m     <a href='vscode-notebook-cell:/Users/ruabrsj/Desktop/personal/school/bac20-24/7%20term/00%20-%20Quickpass/quickpass.ipynb#W3sZmlsZQ%3D%3D?line=31'>32</a>\u001b[0m         text \u001b[39m=\u001b[39m recognizer\u001b[39m.\u001b[39mrecognize_google(audio, language\u001b[39m=\u001b[39m\u001b[39m\"\u001b[39m\u001b[39mru-RU\u001b[39m\u001b[39m\"\u001b[39m)\n",
      "File \u001b[0;32m~/Desktop/personal/school/bac20-24/7 term/00 - Quickpass/.venv/lib/python3.11/site-packages/speech_recognition/__init__.py:491\u001b[0m, in \u001b[0;36mRecognizer.listen\u001b[0;34m(self, source, timeout, phrase_time_limit, snowboy_configuration)\u001b[0m\n\u001b[1;32m    488\u001b[0m \u001b[39mif\u001b[39;00m timeout \u001b[39mand\u001b[39;00m elapsed_time \u001b[39m>\u001b[39m timeout:\n\u001b[1;32m    489\u001b[0m     \u001b[39mraise\u001b[39;00m WaitTimeoutError(\u001b[39m\"\u001b[39m\u001b[39mlistening timed out while waiting for phrase to start\u001b[39m\u001b[39m\"\u001b[39m)\n\u001b[0;32m--> 491\u001b[0m buffer \u001b[39m=\u001b[39m source\u001b[39m.\u001b[39;49mstream\u001b[39m.\u001b[39;49mread(source\u001b[39m.\u001b[39;49mCHUNK)\n\u001b[1;32m    492\u001b[0m \u001b[39mif\u001b[39;00m \u001b[39mlen\u001b[39m(buffer) \u001b[39m==\u001b[39m \u001b[39m0\u001b[39m: \u001b[39mbreak\u001b[39;00m  \u001b[39m# reached end of the stream\u001b[39;00m\n\u001b[1;32m    493\u001b[0m frames\u001b[39m.\u001b[39mappend(buffer)\n",
      "File \u001b[0;32m~/Desktop/personal/school/bac20-24/7 term/00 - Quickpass/.venv/lib/python3.11/site-packages/speech_recognition/__init__.py:199\u001b[0m, in \u001b[0;36mMicrophone.MicrophoneStream.read\u001b[0;34m(self, size)\u001b[0m\n\u001b[1;32m    198\u001b[0m \u001b[39mdef\u001b[39;00m \u001b[39mread\u001b[39m(\u001b[39mself\u001b[39m, size):\n\u001b[0;32m--> 199\u001b[0m     \u001b[39mreturn\u001b[39;00m \u001b[39mself\u001b[39;49m\u001b[39m.\u001b[39;49mpyaudio_stream\u001b[39m.\u001b[39;49mread(size, exception_on_overflow\u001b[39m=\u001b[39;49m\u001b[39mFalse\u001b[39;49;00m)\n",
      "File \u001b[0;32m~/Desktop/personal/school/bac20-24/7 term/00 - Quickpass/.venv/lib/python3.11/site-packages/pyaudio/__init__.py:570\u001b[0m, in \u001b[0;36mPyAudio.Stream.read\u001b[0;34m(self, num_frames, exception_on_overflow)\u001b[0m\n\u001b[1;32m    567\u001b[0m \u001b[39mif\u001b[39;00m \u001b[39mnot\u001b[39;00m \u001b[39mself\u001b[39m\u001b[39m.\u001b[39m_is_input:\n\u001b[1;32m    568\u001b[0m     \u001b[39mraise\u001b[39;00m \u001b[39mIOError\u001b[39;00m(\u001b[39m\"\u001b[39m\u001b[39mNot input stream\u001b[39m\u001b[39m\"\u001b[39m,\n\u001b[1;32m    569\u001b[0m                   paCanNotReadFromAnOutputOnlyStream)\n\u001b[0;32m--> 570\u001b[0m \u001b[39mreturn\u001b[39;00m pa\u001b[39m.\u001b[39;49mread_stream(\u001b[39mself\u001b[39;49m\u001b[39m.\u001b[39;49m_stream, num_frames,\n\u001b[1;32m    571\u001b[0m                       exception_on_overflow)\n",
      "\u001b[0;31mKeyboardInterrupt\u001b[0m: "
     ]
    }
   ],
   "source": [
    "import speech_recognition as sr\n",
    "from gtts import gTTS\n",
    "from googletrans import Translator\n",
    "import sqlite3\n",
    "import random\n",
    "import os\n",
    "\n",
    "conn = sqlite3.connect('texts.db')\n",
    "cursor = conn.cursor()\n",
    "\n",
    "cursor.execute('''CREATE TABLE IF NOT EXISTS texts\n",
    "                  (id INTEGER PRIMARY KEY AUTOINCREMENT, content TEXT)''')\n",
    "\n",
    "def add_text_to_database(text):\n",
    "    cursor.execute(\"INSERT INTO texts (content) VALUES (?)\", (text,))\n",
    "    conn.commit()\n",
    "\n",
    "def get_random_text_from_database():\n",
    "    cursor.execute(\"SELECT content FROM texts ORDER BY RANDOM() LIMIT 1\")\n",
    "    row = cursor.fetchone()\n",
    "    if row:\n",
    "        return row[0]\n",
    "    else:\n",
    "        return None\n",
    "\n",
    "def recognize_speech():\n",
    "    recognizer = sr.Recognizer()\n",
    "    with sr.Microphone() as source:\n",
    "        print(\"Говорите что-нибудь...\")\n",
    "        audio = recognizer.listen(source)\n",
    "        try:\n",
    "            text = recognizer.recognize_google(audio, language=\"ru-RU\")\n",
    "            return text\n",
    "        except sr.UnknownValueError:\n",
    "            print(\"Извините, не могу распознать вашу речь.\")\n",
    "            return \"\"\n",
    "        except sr.RequestError as e:\n",
    "            print(f\"Произошла ошибка при запросе к сервису распознавания: {e}\")\n",
    "            return \"\"\n",
    "\n",
    "def translate_and_speak_text(text_to_translate, target_language='en'):\n",
    "    translator = Translator()\n",
    "    translated_text = translator.translate(text_to_translate, src='ru', dest=target_language).text\n",
    "    print(\"Переведенный текст:\")\n",
    "    print(translated_text)\n",
    "    \n",
    "    tts = gTTS(text=translated_text, lang=target_language)\n",
    "    tts.save(\"translated_output.mp3\")\n",
    "    os.system(\"mpg123 translated_output.mp3\")\n",
    "\n",
    "def main():\n",
    "    while True:\n",
    "        print(\"Чем могу помочь?\")\n",
    "        user_input = recognize_speech().lower()\n",
    "\n",
    "        if \"переведи\" in user_input:\n",
    "            print(\"Говорите текст для перевода:\")\n",
    "            text_to_translate = recognize_speech().lower() \n",
    "            if text_to_translate:\n",
    "                translate_and_speak_text(text_to_translate)\n",
    "\n",
    "        elif \"зачитай вслух\" in user_input:\n",
    "            text_to_read = input(\"Введите текст для зачтения: \")\n",
    "            tts = gTTS(text=text_to_read, lang='ru')\n",
    "            tts.save(\"output.mp3\")\n",
    "            os.system(\"mpg123 output.mp3\")\n",
    "\n",
    "        elif \"практика\" in user_input:\n",
    "            random_text = get_random_text_from_database()\n",
    "            if random_text:\n",
    "                print(\"Зачитайте следующий текст вслух:\")\n",
    "                print(random_text)\n",
    "                for _ in range(3):  # Три попытки для правильного произнесения текста\n",
    "                    user_speech = recognize_speech()\n",
    "                    if user_speech.lower() == random_text.lower():\n",
    "                        print(\"Отлично! Вы правильно прочли текст.\")\n",
    "                        break\n",
    "                    else:\n",
    "                        print(\"Попробуйте еще раз.\")\n",
    "                else:\n",
    "                    print(\"Извините, есть расхождения в произнесенном и ожидаемом тексте.\")\n",
    "            else:\n",
    "                print(\"База данных текстов пуста. Добавьте тексты с помощью команды 'добавить текст'.\")\n",
    "\n",
    "        elif \"добавить текст\" in user_input:\n",
    "            new_text = input(\"Введите текст для добавления в базу данных: \")\n",
    "            add_text_to_database(new_text)\n",
    "            print(\"Текст успешно добавлен в базу данных.\")\n",
    "\n",
    "        elif \"выход\" in user_input:\n",
    "            break\n",
    "\n",
    "    conn.close()\n",
    "\n",
    "if __name__ == \"__main__\":\n",
    "    main()"
   ]
  },
  {
   "cell_type": "markdown",
   "id": "c976611c-dcbd-4f13-96b0-a862bedd554a",
   "metadata": {},
   "source": [
    "#### Задача 3 (1 балл). \n",
    "\n",
    "Возьмите любую лингвистическую статью по синтаксису (можно найти на scholar.google.com) и сверстайте в латехе любые три синтаксических дерева оттуда. "
   ]
  },
  {
   "cell_type": "code",
   "execution_count": null,
   "id": "7968cfeb",
   "metadata": {
    "vscode": {
     "languageId": "shellscript"
    }
   },
   "outputs": [],
   "source": [
    "###\n",
    "\\documentclass{article}\n",
    "\\usepackage[utf8]{inputenc} % Specify UTF-8 encoding\n",
    "\\usepackage[T1,T2A]{fontenc} % Font encoding for Cyrillic characters\n",
    "\\usepackage[english, russian]{babel} % Language support\n",
    "\n",
    "\\usepackage{qtree} \n",
    "\n",
    "\\begin{document}\n",
    "\n",
    "\\section{Syntactic Trees}\n",
    "\n",
    "\\subsection{Предложение 1}\n",
    "\\Tree [.S [.NP [.Adj Знакомые ] [.N студентки ] ] [.VP [.V занимаются ] [.NP [.Adj прикладной ] [.N лингвистикой ] ] ] ]\n",
    "\n",
    "\\subsection{Предложение 2}\n",
    "\\Tree [.S [.NP [.N студент ] ] [.VP [.V ждал ] [.NP [.Adj нетерпением ] [.N летних ] [.N каникул ] ] ] ]\n",
    "\n",
    "\\subsection{Предложение 3}\n",
    "\\Tree [.S [.NP [.Adj Наш ] [.N преподаватель ] ] [.VP [.V возвратился ] [.PP [.P из ] [.NP [.N командировки ] [.PP [.P в ] [.NP [.N Новосибирск ] ] ] ] ] ] ]\n",
    "\n",
    "\\end{document}"
   ]
  },
  {
   "cell_type": "markdown",
   "id": "58860bb5-0a90-4b31-af54-af0f768e6df9",
   "metadata": {},
   "source": [
    "#### Задача 4 (1 балл). \n",
    "\n",
    "Напишите функцию, которая строит график для n самых частотных слов в тексте. Сделайте интерактивный график, где можно выбирать количество n слов."
   ]
  },
  {
   "cell_type": "code",
   "execution_count": 1,
   "id": "81606092-8da5-4e28-a604-4bc7a9d0ec51",
   "metadata": {},
   "outputs": [
    {
     "data": {
      "application/vnd.plotly.v1+json": {
       "config": {
        "plotlyServerURL": "https://plot.ly"
       },
       "data": [
        {
         "alignmentgroup": "True",
         "hovertemplate": "Слово=%{x}<br>Частота=%{y}<extra></extra>",
         "legendgroup": "",
         "marker": {
          "color": "#636efa",
          "pattern": {
           "shape": ""
          }
         },
         "name": "",
         "offsetgroup": "",
         "orientation": "v",
         "showlegend": false,
         "textposition": "auto",
         "type": "bar",
         "x": [
          "текст",
          "Ваш",
          "здесь.",
          "Замените",
          "этот",
          "на",
          "ваш",
          "актуальный",
          "для",
          "анализа."
         ],
         "xaxis": "x",
         "y": [
          3,
          1,
          1,
          1,
          1,
          1,
          1,
          1,
          1,
          1
         ],
         "yaxis": "y"
        }
       ],
       "layout": {
        "barmode": "relative",
        "legend": {
         "tracegroupgap": 0
        },
        "template": {
         "data": {
          "bar": [
           {
            "error_x": {
             "color": "#2a3f5f"
            },
            "error_y": {
             "color": "#2a3f5f"
            },
            "marker": {
             "line": {
              "color": "#E5ECF6",
              "width": 0.5
             },
             "pattern": {
              "fillmode": "overlay",
              "size": 10,
              "solidity": 0.2
             }
            },
            "type": "bar"
           }
          ],
          "barpolar": [
           {
            "marker": {
             "line": {
              "color": "#E5ECF6",
              "width": 0.5
             },
             "pattern": {
              "fillmode": "overlay",
              "size": 10,
              "solidity": 0.2
             }
            },
            "type": "barpolar"
           }
          ],
          "carpet": [
           {
            "aaxis": {
             "endlinecolor": "#2a3f5f",
             "gridcolor": "white",
             "linecolor": "white",
             "minorgridcolor": "white",
             "startlinecolor": "#2a3f5f"
            },
            "baxis": {
             "endlinecolor": "#2a3f5f",
             "gridcolor": "white",
             "linecolor": "white",
             "minorgridcolor": "white",
             "startlinecolor": "#2a3f5f"
            },
            "type": "carpet"
           }
          ],
          "choropleth": [
           {
            "colorbar": {
             "outlinewidth": 0,
             "ticks": ""
            },
            "type": "choropleth"
           }
          ],
          "contour": [
           {
            "colorbar": {
             "outlinewidth": 0,
             "ticks": ""
            },
            "colorscale": [
             [
              0,
              "#0d0887"
             ],
             [
              0.1111111111111111,
              "#46039f"
             ],
             [
              0.2222222222222222,
              "#7201a8"
             ],
             [
              0.3333333333333333,
              "#9c179e"
             ],
             [
              0.4444444444444444,
              "#bd3786"
             ],
             [
              0.5555555555555556,
              "#d8576b"
             ],
             [
              0.6666666666666666,
              "#ed7953"
             ],
             [
              0.7777777777777778,
              "#fb9f3a"
             ],
             [
              0.8888888888888888,
              "#fdca26"
             ],
             [
              1,
              "#f0f921"
             ]
            ],
            "type": "contour"
           }
          ],
          "contourcarpet": [
           {
            "colorbar": {
             "outlinewidth": 0,
             "ticks": ""
            },
            "type": "contourcarpet"
           }
          ],
          "heatmap": [
           {
            "colorbar": {
             "outlinewidth": 0,
             "ticks": ""
            },
            "colorscale": [
             [
              0,
              "#0d0887"
             ],
             [
              0.1111111111111111,
              "#46039f"
             ],
             [
              0.2222222222222222,
              "#7201a8"
             ],
             [
              0.3333333333333333,
              "#9c179e"
             ],
             [
              0.4444444444444444,
              "#bd3786"
             ],
             [
              0.5555555555555556,
              "#d8576b"
             ],
             [
              0.6666666666666666,
              "#ed7953"
             ],
             [
              0.7777777777777778,
              "#fb9f3a"
             ],
             [
              0.8888888888888888,
              "#fdca26"
             ],
             [
              1,
              "#f0f921"
             ]
            ],
            "type": "heatmap"
           }
          ],
          "heatmapgl": [
           {
            "colorbar": {
             "outlinewidth": 0,
             "ticks": ""
            },
            "colorscale": [
             [
              0,
              "#0d0887"
             ],
             [
              0.1111111111111111,
              "#46039f"
             ],
             [
              0.2222222222222222,
              "#7201a8"
             ],
             [
              0.3333333333333333,
              "#9c179e"
             ],
             [
              0.4444444444444444,
              "#bd3786"
             ],
             [
              0.5555555555555556,
              "#d8576b"
             ],
             [
              0.6666666666666666,
              "#ed7953"
             ],
             [
              0.7777777777777778,
              "#fb9f3a"
             ],
             [
              0.8888888888888888,
              "#fdca26"
             ],
             [
              1,
              "#f0f921"
             ]
            ],
            "type": "heatmapgl"
           }
          ],
          "histogram": [
           {
            "marker": {
             "pattern": {
              "fillmode": "overlay",
              "size": 10,
              "solidity": 0.2
             }
            },
            "type": "histogram"
           }
          ],
          "histogram2d": [
           {
            "colorbar": {
             "outlinewidth": 0,
             "ticks": ""
            },
            "colorscale": [
             [
              0,
              "#0d0887"
             ],
             [
              0.1111111111111111,
              "#46039f"
             ],
             [
              0.2222222222222222,
              "#7201a8"
             ],
             [
              0.3333333333333333,
              "#9c179e"
             ],
             [
              0.4444444444444444,
              "#bd3786"
             ],
             [
              0.5555555555555556,
              "#d8576b"
             ],
             [
              0.6666666666666666,
              "#ed7953"
             ],
             [
              0.7777777777777778,
              "#fb9f3a"
             ],
             [
              0.8888888888888888,
              "#fdca26"
             ],
             [
              1,
              "#f0f921"
             ]
            ],
            "type": "histogram2d"
           }
          ],
          "histogram2dcontour": [
           {
            "colorbar": {
             "outlinewidth": 0,
             "ticks": ""
            },
            "colorscale": [
             [
              0,
              "#0d0887"
             ],
             [
              0.1111111111111111,
              "#46039f"
             ],
             [
              0.2222222222222222,
              "#7201a8"
             ],
             [
              0.3333333333333333,
              "#9c179e"
             ],
             [
              0.4444444444444444,
              "#bd3786"
             ],
             [
              0.5555555555555556,
              "#d8576b"
             ],
             [
              0.6666666666666666,
              "#ed7953"
             ],
             [
              0.7777777777777778,
              "#fb9f3a"
             ],
             [
              0.8888888888888888,
              "#fdca26"
             ],
             [
              1,
              "#f0f921"
             ]
            ],
            "type": "histogram2dcontour"
           }
          ],
          "mesh3d": [
           {
            "colorbar": {
             "outlinewidth": 0,
             "ticks": ""
            },
            "type": "mesh3d"
           }
          ],
          "parcoords": [
           {
            "line": {
             "colorbar": {
              "outlinewidth": 0,
              "ticks": ""
             }
            },
            "type": "parcoords"
           }
          ],
          "pie": [
           {
            "automargin": true,
            "type": "pie"
           }
          ],
          "scatter": [
           {
            "fillpattern": {
             "fillmode": "overlay",
             "size": 10,
             "solidity": 0.2
            },
            "type": "scatter"
           }
          ],
          "scatter3d": [
           {
            "line": {
             "colorbar": {
              "outlinewidth": 0,
              "ticks": ""
             }
            },
            "marker": {
             "colorbar": {
              "outlinewidth": 0,
              "ticks": ""
             }
            },
            "type": "scatter3d"
           }
          ],
          "scattercarpet": [
           {
            "marker": {
             "colorbar": {
              "outlinewidth": 0,
              "ticks": ""
             }
            },
            "type": "scattercarpet"
           }
          ],
          "scattergeo": [
           {
            "marker": {
             "colorbar": {
              "outlinewidth": 0,
              "ticks": ""
             }
            },
            "type": "scattergeo"
           }
          ],
          "scattergl": [
           {
            "marker": {
             "colorbar": {
              "outlinewidth": 0,
              "ticks": ""
             }
            },
            "type": "scattergl"
           }
          ],
          "scattermapbox": [
           {
            "marker": {
             "colorbar": {
              "outlinewidth": 0,
              "ticks": ""
             }
            },
            "type": "scattermapbox"
           }
          ],
          "scatterpolar": [
           {
            "marker": {
             "colorbar": {
              "outlinewidth": 0,
              "ticks": ""
             }
            },
            "type": "scatterpolar"
           }
          ],
          "scatterpolargl": [
           {
            "marker": {
             "colorbar": {
              "outlinewidth": 0,
              "ticks": ""
             }
            },
            "type": "scatterpolargl"
           }
          ],
          "scatterternary": [
           {
            "marker": {
             "colorbar": {
              "outlinewidth": 0,
              "ticks": ""
             }
            },
            "type": "scatterternary"
           }
          ],
          "surface": [
           {
            "colorbar": {
             "outlinewidth": 0,
             "ticks": ""
            },
            "colorscale": [
             [
              0,
              "#0d0887"
             ],
             [
              0.1111111111111111,
              "#46039f"
             ],
             [
              0.2222222222222222,
              "#7201a8"
             ],
             [
              0.3333333333333333,
              "#9c179e"
             ],
             [
              0.4444444444444444,
              "#bd3786"
             ],
             [
              0.5555555555555556,
              "#d8576b"
             ],
             [
              0.6666666666666666,
              "#ed7953"
             ],
             [
              0.7777777777777778,
              "#fb9f3a"
             ],
             [
              0.8888888888888888,
              "#fdca26"
             ],
             [
              1,
              "#f0f921"
             ]
            ],
            "type": "surface"
           }
          ],
          "table": [
           {
            "cells": {
             "fill": {
              "color": "#EBF0F8"
             },
             "line": {
              "color": "white"
             }
            },
            "header": {
             "fill": {
              "color": "#C8D4E3"
             },
             "line": {
              "color": "white"
             }
            },
            "type": "table"
           }
          ]
         },
         "layout": {
          "annotationdefaults": {
           "arrowcolor": "#2a3f5f",
           "arrowhead": 0,
           "arrowwidth": 1
          },
          "autotypenumbers": "strict",
          "coloraxis": {
           "colorbar": {
            "outlinewidth": 0,
            "ticks": ""
           }
          },
          "colorscale": {
           "diverging": [
            [
             0,
             "#8e0152"
            ],
            [
             0.1,
             "#c51b7d"
            ],
            [
             0.2,
             "#de77ae"
            ],
            [
             0.3,
             "#f1b6da"
            ],
            [
             0.4,
             "#fde0ef"
            ],
            [
             0.5,
             "#f7f7f7"
            ],
            [
             0.6,
             "#e6f5d0"
            ],
            [
             0.7,
             "#b8e186"
            ],
            [
             0.8,
             "#7fbc41"
            ],
            [
             0.9,
             "#4d9221"
            ],
            [
             1,
             "#276419"
            ]
           ],
           "sequential": [
            [
             0,
             "#0d0887"
            ],
            [
             0.1111111111111111,
             "#46039f"
            ],
            [
             0.2222222222222222,
             "#7201a8"
            ],
            [
             0.3333333333333333,
             "#9c179e"
            ],
            [
             0.4444444444444444,
             "#bd3786"
            ],
            [
             0.5555555555555556,
             "#d8576b"
            ],
            [
             0.6666666666666666,
             "#ed7953"
            ],
            [
             0.7777777777777778,
             "#fb9f3a"
            ],
            [
             0.8888888888888888,
             "#fdca26"
            ],
            [
             1,
             "#f0f921"
            ]
           ],
           "sequentialminus": [
            [
             0,
             "#0d0887"
            ],
            [
             0.1111111111111111,
             "#46039f"
            ],
            [
             0.2222222222222222,
             "#7201a8"
            ],
            [
             0.3333333333333333,
             "#9c179e"
            ],
            [
             0.4444444444444444,
             "#bd3786"
            ],
            [
             0.5555555555555556,
             "#d8576b"
            ],
            [
             0.6666666666666666,
             "#ed7953"
            ],
            [
             0.7777777777777778,
             "#fb9f3a"
            ],
            [
             0.8888888888888888,
             "#fdca26"
            ],
            [
             1,
             "#f0f921"
            ]
           ]
          },
          "colorway": [
           "#636efa",
           "#EF553B",
           "#00cc96",
           "#ab63fa",
           "#FFA15A",
           "#19d3f3",
           "#FF6692",
           "#B6E880",
           "#FF97FF",
           "#FECB52"
          ],
          "font": {
           "color": "#2a3f5f"
          },
          "geo": {
           "bgcolor": "white",
           "lakecolor": "white",
           "landcolor": "#E5ECF6",
           "showlakes": true,
           "showland": true,
           "subunitcolor": "white"
          },
          "hoverlabel": {
           "align": "left"
          },
          "hovermode": "closest",
          "mapbox": {
           "style": "light"
          },
          "paper_bgcolor": "white",
          "plot_bgcolor": "#E5ECF6",
          "polar": {
           "angularaxis": {
            "gridcolor": "white",
            "linecolor": "white",
            "ticks": ""
           },
           "bgcolor": "#E5ECF6",
           "radialaxis": {
            "gridcolor": "white",
            "linecolor": "white",
            "ticks": ""
           }
          },
          "scene": {
           "xaxis": {
            "backgroundcolor": "#E5ECF6",
            "gridcolor": "white",
            "gridwidth": 2,
            "linecolor": "white",
            "showbackground": true,
            "ticks": "",
            "zerolinecolor": "white"
           },
           "yaxis": {
            "backgroundcolor": "#E5ECF6",
            "gridcolor": "white",
            "gridwidth": 2,
            "linecolor": "white",
            "showbackground": true,
            "ticks": "",
            "zerolinecolor": "white"
           },
           "zaxis": {
            "backgroundcolor": "#E5ECF6",
            "gridcolor": "white",
            "gridwidth": 2,
            "linecolor": "white",
            "showbackground": true,
            "ticks": "",
            "zerolinecolor": "white"
           }
          },
          "shapedefaults": {
           "line": {
            "color": "#2a3f5f"
           }
          },
          "ternary": {
           "aaxis": {
            "gridcolor": "white",
            "linecolor": "white",
            "ticks": ""
           },
           "baxis": {
            "gridcolor": "white",
            "linecolor": "white",
            "ticks": ""
           },
           "bgcolor": "#E5ECF6",
           "caxis": {
            "gridcolor": "white",
            "linecolor": "white",
            "ticks": ""
           }
          },
          "title": {
           "x": 0.05
          },
          "xaxis": {
           "automargin": true,
           "gridcolor": "white",
           "linecolor": "white",
           "ticks": "",
           "title": {
            "standoff": 15
           },
           "zerolinecolor": "white",
           "zerolinewidth": 2
          },
          "yaxis": {
           "automargin": true,
           "gridcolor": "white",
           "linecolor": "white",
           "ticks": "",
           "title": {
            "standoff": 15
           },
           "zerolinecolor": "white",
           "zerolinewidth": 2
          }
         }
        },
        "title": {
         "text": "Топ 10 Самых Частотных Слов"
        },
        "xaxis": {
         "anchor": "y",
         "domain": [
          0,
          1
         ],
         "title": {
          "text": "Слово"
         }
        },
        "yaxis": {
         "anchor": "x",
         "domain": [
          0,
          1
         ],
         "title": {
          "text": "Частота"
         }
        }
       }
      }
     },
     "metadata": {},
     "output_type": "display_data"
    }
   ],
   "source": [
    "import plotly.express as px\n",
    "import pandas as pd\n",
    "from collections import Counter\n",
    "\n",
    "def plot_top_n_words(text, n):\n",
    "    words = text.split()\n",
    "    word_counts = Counter(words)\n",
    "\n",
    "    top_n_words = word_counts.most_common(n)\n",
    "\n",
    "    df = pd.DataFrame(top_n_words, columns=['Слово', 'Частота'])\n",
    "\n",
    "    fig = px.bar(df, x='Слово', y='Частота', title=f'Топ {n} Самых Частотных Слов')\n",
    "    fig.show()\n",
    "\n",
    "\n",
    "text = \"Ваш текст здесь. Замените этот текст на ваш актуальный текст для анализа.\"\n",
    "n = 10 \n",
    "plot_top_n_words(text, n)"
   ]
  },
  {
   "cell_type": "markdown",
   "id": "2ec9a6a1-feab-41d8-a2ae-73f9fa7191d1",
   "metadata": {},
   "source": [
    "#### Задача 5 (1 балл).\n",
    "\n",
    "Напишите программу, которая будет запрашивать у пользователя, какой из трех любых (выберите сами) признаков WALS он бы хотел посмотреть, и отрисовывать карту с WALS с этим признаком при помощи folium. Маркеры разных значений признака должны иметь разный цвет и иконку. "
   ]
  },
  {
   "cell_type": "code",
   "execution_count": 37,
   "id": "cd7b7ce5-2958-430b-95a7-941c02d9ac62",
   "metadata": {},
   "outputs": [
    {
     "name": "stdout",
     "output_type": "stream",
     "text": [
      "Карта с признаком 'tone' создана и сохранена в файл 'wals_map.html'.\n"
     ]
    }
   ],
   "source": [
    "import folium\n",
    "import pandas as pd\n",
    "\n",
    "def display_wals_map(feature):\n",
    "    wals_data = f\"{feature}.tsv\"\n",
    "    wals_data = pd.read_csv(wals_data, delimiter='\\t')\n",
    "    m = folium.Map(location=[0, 0], zoom_start=2)\n",
    "\n",
    "    wals_data[\"description\"] = wals_data[\"description\"].astype(str)\n",
    "\n",
    "    color_mapping = {\n",
    "        value: '#' + format(hash(value) % (16**6), '06x') for value in wals_data[\"description\"].unique()\n",
    "    }\n",
    "\n",
    "    for index, row in wals_data.iterrows():\n",
    "        value = row[\"description\"]\n",
    "        color = color_mapping[value]\n",
    "\n",
    "        folium.CircleMarker(\n",
    "            location=[row['latitude'], row['longitude']],\n",
    "            radius=5,\n",
    "            color=color,\n",
    "            fill=True,\n",
    "            fill_color=color,\n",
    "            fill_opacity=0.7,\n",
    "            popup=f\"{feature}: {value}\",\n",
    "        ).add_to(m)\n",
    "\n",
    "    m.save('wals_map.html')\n",
    "\n",
    "    print(f\"Карта с признаком '{feature}' создана и сохранена в файл 'wals_map.html'.\")\n",
    "\n",
    "if __name__ == '__main__':\n",
    "    selected_feature = input(\"Введите признак WALS (например, 'Word Order'): \")\n",
    "    display_wals_map(selected_feature)"
   ]
  },
  {
   "cell_type": "markdown",
   "id": "9aa9eb19-6da8-4c8e-b1a1-dfdb4f802fdb",
   "metadata": {},
   "source": [
    "#### 6. Задачи по pandas - в сумме 10 баллов\n",
    "\n",
    "В папке Data находится информация о студентах. Всего 10 групп студентов. Файлы делятся на две категории:\n",
    "    * Students_info_i - информация о студентах из группы i\n",
    "    * Students_marks_i - оценки студентов из группы i за экзамены"
   ]
  },
  {
   "cell_type": "markdown",
   "id": "7926e0cb-3743-43a0-93b2-06af92c87b72",
   "metadata": {},
   "source": [
    "Задание 1. Соберите всю информацию о студентах в одну таблицу df. В получившейся таблице должна быть информация и оценки всех студентов из всех групп. Напечатайте несколько строк таблицы для демонстрации результата.¶"
   ]
  },
  {
   "cell_type": "code",
   "execution_count": 15,
   "id": "b7222337-085e-42a6-94c0-b822648e79fe",
   "metadata": {},
   "outputs": [
    {
     "name": "stdout",
     "output_type": "stream",
     "text": [
      "   index  gender race/ethnicity parental level of education         lunch  \\\n",
      "0      0  female        group B           bachelor's degree      standard   \n",
      "1      1  female        group C                some college      standard   \n",
      "2      2  female        group B             master's degree      standard   \n",
      "3      3    male        group A          associate's degree  free/reduced   \n",
      "4      4    male        group C                some college      standard   \n",
      "\n",
      "  test preparation course   group  math score  reading score  writing score  \n",
      "0                    none  group1          72             72             74  \n",
      "1               completed  group1          69             90             88  \n",
      "2                    none  group1          90             95             93  \n",
      "3                    none  group1          47             57             44  \n",
      "4                    none  group1          76             78             75  \n"
     ]
    }
   ],
   "source": [
    "import pandas as pd\n",
    "\n",
    "df = pd.DataFrame()\n",
    "\n",
    "for i in range(0, 10):\n",
    "    students_info = pd.read_csv(f'Data/Students_info_{i}.csv')\n",
    "    students_marks = pd.read_csv(f'Data/Students_marks_{i}.csv')\n",
    "    merged_data = pd.merge(students_info, students_marks, on='index')\n",
    "    df = pd.concat([df, merged_data], ignore_index=True)\n",
    "\n",
    "print(df.head())"
   ]
  },
  {
   "cell_type": "markdown",
   "id": "20ce88ed-e36e-493c-86ff-e1d47796034b",
   "metadata": {
    "_uuid": "8524af4cbd2f7b7810e8a3095a74c9fe1df7eafa"
   },
   "source": [
    "Задание 2. Удалите столбец index у полученной таблицы. Напечатайте первые 10 строк таблицы."
   ]
  },
  {
   "cell_type": "code",
   "execution_count": 16,
   "id": "65d3caac-60bf-4656-910f-b0645aee5065",
   "metadata": {
    "_uuid": "fe62eee87b9b94ab923f57b55eaf0554612aa9e9"
   },
   "outputs": [
    {
     "name": "stdout",
     "output_type": "stream",
     "text": [
      "   gender race/ethnicity parental level of education         lunch  \\\n",
      "0  female        group B           bachelor's degree      standard   \n",
      "1  female        group C                some college      standard   \n",
      "2  female        group B             master's degree      standard   \n",
      "3    male        group A          associate's degree  free/reduced   \n",
      "4    male        group C                some college      standard   \n",
      "5  female        group B          associate's degree      standard   \n",
      "6  female        group B                some college      standard   \n",
      "7    male        group B                some college  free/reduced   \n",
      "8    male        group D                 high school  free/reduced   \n",
      "9  female        group B                 high school  free/reduced   \n",
      "\n",
      "  test preparation course   group  math score  reading score  writing score  \n",
      "0                    none  group1          72             72             74  \n",
      "1               completed  group1          69             90             88  \n",
      "2                    none  group1          90             95             93  \n",
      "3                    none  group1          47             57             44  \n",
      "4                    none  group1          76             78             75  \n",
      "5                    none  group1          71             83             78  \n",
      "6               completed  group1          88             95             92  \n",
      "7                    none  group1          40             43             39  \n",
      "8               completed  group1          64             64             67  \n",
      "9                    none  group1          38             60             50  \n"
     ]
    }
   ],
   "source": [
    "df = df.drop(columns=['index'])\n",
    "\n",
    "print(df.head(10))"
   ]
  },
  {
   "cell_type": "markdown",
   "id": "50a1441b-fa2f-40f9-bdf3-54f1ade73dcc",
   "metadata": {
    "_uuid": "5fcd622942b7ecfc318934c6a245d3bb3bf01e84"
   },
   "source": [
    "Задание 3. Выведите на экран размеры полученной таблицы"
   ]
  },
  {
   "cell_type": "code",
   "execution_count": 17,
   "id": "9064f830-25c2-430a-a762-20451ba8828d",
   "metadata": {
    "_uuid": "16281cd7b4e941ebed8ca2e1b42f62f55d838684"
   },
   "outputs": [
    {
     "name": "stdout",
     "output_type": "stream",
     "text": [
      "(1000, 9)\n"
     ]
    }
   ],
   "source": [
    "print(df.shape)"
   ]
  },
  {
   "cell_type": "markdown",
   "id": "7754e894-a9d4-4df9-8556-400ae0140aa6",
   "metadata": {
    "_uuid": "fe8e3d58d29ca25dbbcf001392377643e6ff9a36"
   },
   "source": [
    "Задание 4. Выведите на экран статистические характеристики числовых столбцов таблицы (минимум, максимум, среднее значение, стандартное отклонение)"
   ]
  },
  {
   "cell_type": "code",
   "execution_count": 21,
   "id": "0664eb5b-4acc-4cfa-844b-07e4068fed90",
   "metadata": {
    "_uuid": "e3d4bb80d2c4251fe517c24fcf08c5ff2d67b8aa"
   },
   "outputs": [
    {
     "name": "stdout",
     "output_type": "stream",
     "text": [
      "        gender race/ethnicity parental level of education     lunch  \\\n",
      "count     1000           1000                        1000      1000   \n",
      "unique       2              5                           6         2   \n",
      "top     female        group C                some college  standard   \n",
      "freq       518            319                         226       645   \n",
      "mean       NaN            NaN                         NaN       NaN   \n",
      "std        NaN            NaN                         NaN       NaN   \n",
      "min        NaN            NaN                         NaN       NaN   \n",
      "25%        NaN            NaN                         NaN       NaN   \n",
      "50%        NaN            NaN                         NaN       NaN   \n",
      "75%        NaN            NaN                         NaN       NaN   \n",
      "max        NaN            NaN                         NaN       NaN   \n",
      "\n",
      "       test preparation course   group  math score  reading score  \\\n",
      "count                     1000    1000  1000.00000    1000.000000   \n",
      "unique                       2      10         NaN            NaN   \n",
      "top                       none  group1         NaN            NaN   \n",
      "freq                       642     100         NaN            NaN   \n",
      "mean                       NaN     NaN    66.08900      69.169000   \n",
      "std                        NaN     NaN    15.16308      14.600192   \n",
      "min                        NaN     NaN     0.00000      17.000000   \n",
      "25%                        NaN     NaN    57.00000      59.000000   \n",
      "50%                        NaN     NaN    66.00000      70.000000   \n",
      "75%                        NaN     NaN    77.00000      79.000000   \n",
      "max                        NaN     NaN   100.00000     100.000000   \n",
      "\n",
      "        writing score  \n",
      "count     1000.000000  \n",
      "unique            NaN  \n",
      "top               NaN  \n",
      "freq              NaN  \n",
      "mean        68.054000  \n",
      "std         15.195657  \n",
      "min         10.000000  \n",
      "25%         57.750000  \n",
      "50%         69.000000  \n",
      "75%         79.000000  \n",
      "max        100.000000  \n"
     ]
    }
   ],
   "source": [
    "print(df.describe(include='all'))"
   ]
  },
  {
   "cell_type": "markdown",
   "id": "626967f0-bab2-401c-898a-a96e39707ba1",
   "metadata": {
    "_uuid": "b26b7de83485ecb3b8a0a7865a596e24527c7b2f"
   },
   "source": [
    "Задание 5. Проверьте, есть ли в таблице пропущенные значения"
   ]
  },
  {
   "cell_type": "code",
   "execution_count": 23,
   "id": "7f02316c-04c1-4871-8e5f-0de3682a0056",
   "metadata": {
    "_uuid": "4eac3f8f83d07c6e58ad1576fe0e773f37034a2f"
   },
   "outputs": [
    {
     "name": "stdout",
     "output_type": "stream",
     "text": [
      "gender                         0\n",
      "race/ethnicity                 0\n",
      "parental level of education    0\n",
      "lunch                          0\n",
      "test preparation course        0\n",
      "group                          0\n",
      "math score                     0\n",
      "reading score                  0\n",
      "writing score                  0\n",
      "dtype: int64\n"
     ]
    }
   ],
   "source": [
    "missing_values = df.isnull().sum()\n",
    "\n",
    "print(missing_values)"
   ]
  },
  {
   "cell_type": "markdown",
   "id": "d1fd6a43-602f-4bed-a6ae-d82d174068e1",
   "metadata": {},
   "source": [
    "Задание 6. Выведите на экран средние баллы студентов по каждому предмету (math, reading, writing)"
   ]
  },
  {
   "cell_type": "code",
   "execution_count": 24,
   "id": "d4c7e412-8346-42f8-b586-92d92c98feba",
   "metadata": {},
   "outputs": [
    {
     "name": "stdout",
     "output_type": "stream",
     "text": [
      "math score       66.089\n",
      "reading score    69.169\n",
      "writing score    68.054\n",
      "dtype: float64\n"
     ]
    }
   ],
   "source": [
    "average_scores = df[['math score', 'reading score', 'writing score']].mean()\n",
    "\n",
    "print(average_scores)"
   ]
  },
  {
   "cell_type": "markdown",
   "id": "8c877b1b-bfd5-48a6-b007-0a7965ff524a",
   "metadata": {},
   "source": [
    "Задание 7. Как зависят оценки от того, проходил ли студент курс для подготовки к сдаче экзамена (test preparation course)? Выведите на экран для каждого предмета в отдельности средний балл студентов, проходивших курс для подготовки к экзамену и не проходивших курс."
   ]
  },
  {
   "cell_type": "code",
   "execution_count": 26,
   "id": "199b973e-cb37-4711-9dd0-722b89cac692",
   "metadata": {},
   "outputs": [
    {
     "name": "stdout",
     "output_type": "stream",
     "text": [
      "Средние баллы студентов по предметам, проходивших и не проходивших курс:\n",
      "                         math score  reading score  writing score\n",
      "test preparation course                                          \n",
      "completed                 69.695531      73.893855      74.418994\n",
      "none                      64.077882      66.534268      64.504673\n"
     ]
    }
   ],
   "source": [
    "grouped_data = df.groupby('test preparation course')\n",
    "\n",
    "average_scores_by_course = grouped_data[['math score', 'reading score', 'writing score']].mean()\n",
    "\n",
    "print(\"Средние баллы студентов по предметам, проходивших и не проходивших курс:\")\n",
    "print(average_scores_by_course)"
   ]
  },
  {
   "cell_type": "markdown",
   "id": "ca94dadb-d25a-4bd0-872c-e27b7fb85488",
   "metadata": {},
   "source": [
    "Задание 8. Выведите на экран все различные значения из столбца lunch."
   ]
  },
  {
   "cell_type": "code",
   "execution_count": 27,
   "id": "cfa600c5-2610-4c00-8c2e-9fd35dd640a2",
   "metadata": {},
   "outputs": [
    {
     "name": "stdout",
     "output_type": "stream",
     "text": [
      "['standard' 'free/reduced']\n"
     ]
    }
   ],
   "source": [
    "unique_lunch_values = df['lunch'].unique()\n",
    "\n",
    "print(unique_lunch_values)"
   ]
  },
  {
   "cell_type": "markdown",
   "id": "3466caef-3f26-451f-a02b-1810b3919b13",
   "metadata": {},
   "source": [
    "Задание 9. Переименуйте колонку \"parental level of education\" в \"education\", а \"test preparation course\" в \"test preparation\" с помощью метода pandas rename."
   ]
  },
  {
   "cell_type": "code",
   "execution_count": 28,
   "id": "103bd66d-6472-4753-ae4d-d49566e0dbcc",
   "metadata": {},
   "outputs": [
    {
     "name": "stdout",
     "output_type": "stream",
     "text": [
      "   gender race/ethnicity           education         lunch test preparation  \\\n",
      "0  female        group B   bachelor's degree      standard             none   \n",
      "1  female        group C        some college      standard        completed   \n",
      "2  female        group B     master's degree      standard             none   \n",
      "3    male        group A  associate's degree  free/reduced             none   \n",
      "4    male        group C        some college      standard             none   \n",
      "\n",
      "    group  math score  reading score  writing score  \n",
      "0  group1          72             72             74  \n",
      "1  group1          69             90             88  \n",
      "2  group1          90             95             93  \n",
      "3  group1          47             57             44  \n",
      "4  group1          76             78             75  \n"
     ]
    }
   ],
   "source": [
    "df = df.rename(columns={'parental level of education': 'education', 'test preparation course': 'test preparation'})\n",
    "\n",
    "\n",
    "print(df.head())"
   ]
  },
  {
   "cell_type": "markdown",
   "id": "4b455e72-27b2-4806-8450-e3fdd8d45084",
   "metadata": {},
   "source": [
    "**Зафиксируем минимальный балл для сдачи экзамена**"
   ]
  },
  {
   "cell_type": "code",
   "execution_count": 46,
   "id": "943070f1-4ee8-49a5-9f9e-2bca9233c344",
   "metadata": {},
   "outputs": [],
   "source": [
    "passmark = 50"
   ]
  },
  {
   "cell_type": "markdown",
   "id": "a2880b5f-67c3-442d-b460-cc4c2a12ff63",
   "metadata": {},
   "source": [
    "Задание 10. Ответьте на вопросы:\n",
    "\n",
    "    * Какая доля студентов сдала экзамен по математике (passmark > 50)?\n",
    "    * Какая доля студентов, проходивших курс подготовки к экзамену, сдала экзамен по математике?\n",
    "    * Какая доля женщин, не проходивших курс подготовки к экзамену, не сдала экзамен по математике? "
   ]
  },
  {
   "cell_type": "code",
   "execution_count": 30,
   "id": "8d341a91-6a24-4663-86bc-c44ef3dfb7b8",
   "metadata": {},
   "outputs": [
    {
     "name": "stdout",
     "output_type": "stream",
     "text": [
      "Доля студентов, сдавших экзамен по математике: 85.00%\n",
      "Доля студентов, проходивших курс подготовки и сдавших экзамен по математике: 90.78%\n",
      "Доля женщин, не проходивших курс подготовки и не сдавших экзамен по математике: 23.35%\n"
     ]
    }
   ],
   "source": [
    "\n",
    "passed_math = df[df['math score'] > 50]\n",
    "passing_math_percentage = (len(passed_math) / len(df)) * 100\n",
    "\n",
    "print(f\"Доля студентов, сдавших экзамен по математике: {passing_math_percentage:.2f}%\")\n",
    "\n",
    "prepared_math = df[(df['test preparation'] == 'completed') & (df['math score'] > 50)]\n",
    "prepared_math_percentage = (len(prepared_math) / len(df[df['test preparation'] == 'completed'])) * 100\n",
    "\n",
    "print(f\"Доля студентов, проходивших курс подготовки и сдавших экзамен по математике: {prepared_math_percentage:.2f}%\")\n",
    "\n",
    "female_not_prepared_failed_math = df[(df['gender'] == 'female') & (df['test preparation'] == 'none') & (df['math score'] <= 50)]\n",
    "female_not_prepared_failed_math_percentage = (len(female_not_prepared_failed_math) / len(df[(df['gender'] == 'female') & (df['test preparation'] == 'none')])) * 100\n",
    "\n",
    "print(f\"Доля женщин, не проходивших курс подготовки и не сдавших экзамен по математике: {female_not_prepared_failed_math_percentage:.2f}%\")"
   ]
  },
  {
   "cell_type": "markdown",
   "id": "09d71f8f-769b-4a1e-80a8-a263144eb2f4",
   "metadata": {},
   "source": [
    "Задание 11. С помощью groupby выполните задания ниже. Также выведите время выполнения каждого из заданий.\n",
    "\n",
    "    * Для каждой этнической группы выведите средний балл за экзамен по чтению\n",
    "    * Для каждого уровня образования выведите минимальный балл за экзамен по письму"
   ]
  },
  {
   "cell_type": "code",
   "execution_count": 37,
   "id": "1ef028eb-b19a-4932-9527-1adf49d5130e",
   "metadata": {},
   "outputs": [
    {
     "name": "stdout",
     "output_type": "stream",
     "text": [
      "Средний балл за экзамен по чтению для каждой этнической группы:\n",
      "race/ethnicity\n",
      "group A    64.674157\n",
      "group B    67.352632\n",
      "group C    69.103448\n",
      "group D    70.030534\n",
      "group E    73.028571\n",
      "Name: reading score, dtype: float64\n",
      "Время выполнения задания 1: 0.0022 секунд\n",
      "\n",
      "Минимальный балл за экзамен по письму для каждого уровня образования:\n",
      "education\n",
      "associate's degree    35\n",
      "bachelor's degree     38\n",
      "high school           15\n",
      "master's degree       46\n",
      "some college          19\n",
      "some high school      10\n",
      "Name: writing score, dtype: int64\n",
      "Время выполнения задания 2: 0.0020 секунд\n"
     ]
    }
   ],
   "source": [
    "\n",
    "start_time = time.time()\n",
    "\n",
    "ethnicity_reading_mean = df.groupby('race/ethnicity')['reading score'].mean()\n",
    "print(\"Средний балл за экзамен по чтению для каждой этнической группы:\")\n",
    "print(ethnicity_reading_mean)\n",
    "\n",
    "task1_execution_time = time.time() - start_time\n",
    "print(f\"Время выполнения задания 1: {task1_execution_time:.4f} секунд\")\n",
    "\n",
    "education_writing_min = df.groupby('education')['writing score'].min()\n",
    "print(\"\\nМинимальный балл за экзамен по письму для каждого уровня образования:\")\n",
    "print(education_writing_min)\n",
    "\n",
    "task2_execution_time = time.time() - (start_time + task1_execution_time)\n",
    "print(f\"Время выполнения задания 2: {task2_execution_time:.4f} секунд\")"
   ]
  },
  {
   "cell_type": "markdown",
   "id": "b9b3b36e-1928-47bb-a1c0-d68ff7e9a273",
   "metadata": {},
   "source": [
    "Задание 12. Выполните задание 11 с помощью циклов. Сравните время выполнения."
   ]
  },
  {
   "cell_type": "code",
   "execution_count": 36,
   "id": "b4ed679d-77f2-4a09-b128-17dfff159b3b",
   "metadata": {},
   "outputs": [
    {
     "name": "stdout",
     "output_type": "stream",
     "text": [
      "Средний балл за экзамен по чтению для каждой этнической группы:\n",
      "{'group B': 67.35263157894737, 'group C': 69.10344827586206, 'group A': 64.67415730337079, 'group D': 70.03053435114504, 'group E': 73.02857142857142}\n",
      "Время выполнения задания 1: 0.0038 секунд\n",
      "\n",
      "Минимальный балл за экзамен по письму для каждого уровня образования:\n",
      "{\"bachelor's degree\": 38, 'some college': 19, \"master's degree\": 46, \"associate's degree\": 35, 'high school': 15, 'some high school': 10}\n",
      "Время выполнения задания 2: 0.0038 секунд\n"
     ]
    }
   ],
   "source": [
    "start_time = time.time()\n",
    "\n",
    "ethnicity_groups = df['race/ethnicity'].unique()\n",
    "ethnicity_reading_mean = {}\n",
    "for group in ethnicity_groups:\n",
    "    group_data = df[df['race/ethnicity'] == group]\n",
    "    mean_reading_score = group_data['reading score'].mean()\n",
    "    ethnicity_reading_mean[group] = mean_reading_score\n",
    "print(\"Средний балл за экзамен по чтению для каждой этнической группы:\")\n",
    "print(ethnicity_reading_mean)\n",
    "\n",
    "task1_execution_time = time.time() - start_time\n",
    "print(f\"Время выполнения задания 1: {task1_execution_time:.4f} секунд\")\n",
    "\n",
    "start_time = time.time()\n",
    "\n",
    "education_levels = df['education'].unique()\n",
    "education_writing_min = {}\n",
    "for level in education_levels:\n",
    "    level_data = df[df['education'] == level]\n",
    "    min_writing_score = level_data['writing score'].min()\n",
    "    education_writing_min[level] = min_writing_score\n",
    "print(\"\\nМинимальный балл за экзамен по письму для каждого уровня образования:\")\n",
    "print(education_writing_min)\n",
    "\n",
    "task2_execution_time = time.time() - start_time\n",
    "print(f\"Время выполнения задания 2: {task2_execution_time:.4f} секунд\")"
   ]
  },
  {
   "cell_type": "markdown",
   "id": "24c1dbcb-945a-4b5a-a38d-e5a3d6c66bc3",
   "metadata": {},
   "source": [
    "Задание 13. Выведите на экран средние баллы студентов по каждому предмету в зависимости от пола и уровня образования. То есть должно получиться количество групп, равных 2 * (число уровней образования), и для каждой такой группы выыведите средний балл по каждому из предметов.\n",
    "\n",
    "Это можно сделать с помощью сводных таблиц (pivot_table)."
   ]
  },
  {
   "cell_type": "code",
   "execution_count": 38,
   "id": "20ccb234-6551-435b-80af-7a343ec93ea5",
   "metadata": {},
   "outputs": [
    {
     "name": "stdout",
     "output_type": "stream",
     "text": [
      "                           math score  reading score  writing score\n",
      "gender education                                                   \n",
      "female associate's degree   65.250000      74.120690      74.000000\n",
      "       bachelor's degree    68.349206      77.285714      78.380952\n",
      "       high school          59.351064      68.202128      66.691489\n",
      "       master's degree      66.500000      76.805556      77.638889\n",
      "       some college         65.406780      73.550847      74.050847\n",
      "       some high school     59.296703      69.109890      68.285714\n",
      "male   associate's degree   70.764151      67.433962      65.405660\n",
      "       bachelor's degree    70.581818      68.090909      67.654545\n",
      "       high school          64.705882      61.480392      58.539216\n",
      "       master's degree      74.826087      73.130435      72.608696\n",
      "       some college         69.009259      64.990741      63.148148\n",
      "       some high school     67.840909      64.693182      61.375000\n"
     ]
    }
   ],
   "source": [
    "import pandas as pd\n",
    "\n",
    "pivot_table = pd.pivot_table(df, values=['math score', 'reading score', 'writing score'], index=['gender', 'education'], aggfunc='mean')\n",
    "\n",
    "print(pivot_table)"
   ]
  },
  {
   "cell_type": "markdown",
   "id": "cd472563-6817-4895-821a-60486c2a37de",
   "metadata": {
    "_uuid": "3e832cb427c4314582d1953a41b8c78db75e30e3"
   },
   "source": [
    "Задание 14. Сколько студентов успешно сдали экзамен по математике?\n",
    "\n",
    "Создайте новый столбец в таблице df под названием Math_PassStatus и запишите в него F, если студент не сдал экзамен по математике (балл за экзамен < passmark), и P иначе.\n",
    "\n",
    "Посчитайте количество студентов, сдавших и не сдавших экзамен по математике.\n",
    "\n",
    "Сделайте аналогичные шаги для экзаменов по чтению и письму."
   ]
  },
  {
   "cell_type": "code",
   "execution_count": 40,
   "id": "371e5a5a-7d62-4262-a1e7-3958dfb0cc45",
   "metadata": {
    "_uuid": "f43cddb72cc96b30df84bc0de83a4d9170904340"
   },
   "outputs": [
    {
     "name": "stdout",
     "output_type": "stream",
     "text": [
      "Студенты, сдавшие и не сдавшие экзамен по математике:\n",
      "Math_PassStatus\n",
      "P    865\n",
      "F    135\n",
      "Name: count, dtype: int64\n",
      "\n",
      "Студенты, сдавшие и не сдавшие экзамен по чтению:\n",
      "Reading_PassStatus\n",
      "P    910\n",
      "F     90\n",
      "Name: count, dtype: int64\n",
      "\n",
      "Студенты, сдавшие и не сдавшие экзамен по письму:\n",
      "Writing_PassStatus\n",
      "P    886\n",
      "F    114\n",
      "Name: count, dtype: int64\n"
     ]
    }
   ],
   "source": [
    "passmark = 50\n",
    "\n",
    "df['Math_PassStatus'] = df['math score'].apply(lambda x: 'P' if x >= passmark else 'F')\n",
    "\n",
    "df['Reading_PassStatus'] = df['reading score'].apply(lambda x: 'P' if x >= passmark else 'F')\n",
    "\n",
    "df['Writing_PassStatus'] = df['writing score'].apply(lambda x: 'P' if x >= passmark else 'F')\n",
    "\n",
    "math_pass_counts = df['Math_PassStatus'].value_counts()\n",
    "print(\"Студенты, сдавшие и не сдавшие экзамен по математике:\")\n",
    "print(math_pass_counts)\n",
    "\n",
    "reading_pass_counts = df['Reading_PassStatus'].value_counts()\n",
    "print(\"\\nСтуденты, сдавшие и не сдавшие экзамен по чтению:\")\n",
    "print(reading_pass_counts)\n",
    "\n",
    "writing_pass_counts = df['Writing_PassStatus'].value_counts()\n",
    "print(\"\\nСтуденты, сдавшие и не сдавшие экзамен по письму:\")\n",
    "print(writing_pass_counts)"
   ]
  },
  {
   "cell_type": "markdown",
   "id": "4387016a-5c97-4a34-933c-7ac05b27a553",
   "metadata": {
    "_uuid": "b753c90914ee65501e2ed263ea614d88a381c472"
   },
   "source": [
    "Задание 15. Сколько студентов успешно сдали все экзамены?\n",
    "\n",
    "Создайте столбец OverAll_PassStatus и запишите в него для каждого студента 'F', если студент не сдал хотя бы один из трех экзаменов, а иначе 'P'.\n",
    "\n",
    "Посчитайте количество студентов, которые сдали все экзамены."
   ]
  },
  {
   "cell_type": "code",
   "execution_count": 41,
   "id": "260e7cfd-90c5-4cbb-af4c-b176b591118c",
   "metadata": {
    "_uuid": "e98f895a022b967cab801447b616222439fe9d84"
   },
   "outputs": [
    {
     "name": "stdout",
     "output_type": "stream",
     "text": [
      "Количество студентов, сдавших все экзамены: 812\n"
     ]
    }
   ],
   "source": [
    "df['OverAll_PassStatus'] = df.apply(lambda row: 'P' if row['Math_PassStatus'] == 'P' and row['Reading_PassStatus'] == 'P' and row['Writing_PassStatus'] == 'P' else 'F', axis=1)\n",
    "\n",
    "overall_pass_count = (df['OverAll_PassStatus'] == 'P').sum()\n",
    "print(f\"Количество студентов, сдавших все экзамены: {overall_pass_count}\")"
   ]
  },
  {
   "cell_type": "markdown",
   "id": "216d735a-e2ff-475f-b542-6c79d58cbd24",
   "metadata": {
    "_uuid": "3af9c6cb4cbfff66d4ae09509f10b8b6ce33075d"
   },
   "source": [
    "Задание 16. Переведем баллы в оценки\n",
    "\n",
    "Система перевода баллов в оценки\n",
    "\n",
    "      [90;100] = A\n",
    "      [80;90) = B\n",
    "      [70;80) = C\n",
    "      [60;70) = D\n",
    "      [50;60) = E\n",
    "      [0;50) = F (Fail)\n",
    "\n",
    "Создайте вспомогательную функцию, которая будет по среднему баллу за три экзамена выставлять оценку студенту по данным выше критериям.\n",
    "\n",
    "Создайте столбец Grade и запишите в него оценку каждого студента.\n",
    "\n",
    "Выведите количество студентов, получивших каждую из оценок."
   ]
  },
  {
   "cell_type": "code",
   "execution_count": 42,
   "id": "bba2def2-2830-4fb4-8a3f-bb17a9bf0588",
   "metadata": {
    "_uuid": "04707c5be4237020b906d2ac705a0db3d620506f"
   },
   "outputs": [
    {
     "name": "stdout",
     "output_type": "stream",
     "text": [
      "Количество студентов, получивших каждую из оценок:\n",
      "Grade\n",
      "C    261\n",
      "D    256\n",
      "E    182\n",
      "B    146\n",
      "F    103\n",
      "A     52\n",
      "Name: count, dtype: int64\n"
     ]
    }
   ],
   "source": [
    "def convert_to_grade(score):\n",
    "    if 90 <= score <= 100:\n",
    "        return 'A'\n",
    "    elif 80 <= score < 90:\n",
    "        return 'B'\n",
    "    elif 70 <= score < 80:\n",
    "        return 'C'\n",
    "    elif 60 <= score < 70:\n",
    "        return 'D'\n",
    "    elif 50 <= score < 60:\n",
    "        return 'E'\n",
    "    else:\n",
    "        return 'F'\n",
    "\n",
    "df['Grade'] = df[['math score', 'reading score', 'writing score']].mean(axis=1).apply(convert_to_grade)\n",
    "\n",
    "grade_counts = df['Grade'].value_counts()\n",
    "print(\"Количество студентов, получивших каждую из оценок:\")\n",
    "print(grade_counts)"
   ]
  },
  {
   "cell_type": "markdown",
   "id": "be98b8fb-eb26-4131-8971-c53becb56a73",
   "metadata": {},
   "source": [
    "#### Задача 7 (5 баллов). \n",
    "\n",
    "Напишите примитивный краулер, который с помощью библиотек requests & beautifulsoup4 будет собирать тексты с сайта proza.ru. "
   ]
  },
  {
   "cell_type": "code",
   "execution_count": 47,
   "id": "7c5fd158-f14b-4861-86c4-e446a66d431a",
   "metadata": {},
   "outputs": [],
   "source": [
    "import requests\n",
    "from bs4 import BeautifulSoup\n",
    "from urllib.parse import urlparse, urljoin\n",
    "\n",
    "base_url = \"https://proza.ru/\"\n",
    "\n",
    "visited_urls = set()\n",
    "\n",
    "def crawl_page(url, depth, max_depth):\n",
    "    try:\n",
    "        if depth > max_depth:\n",
    "            return\n",
    "\n",
    "        if url in visited_urls:\n",
    "            return\n",
    "        visited_urls.add(url)\n",
    "\n",
    "        response = requests.get(url)\n",
    "        if response.status_code == 200:\n",
    "            soup = BeautifulSoup(response.text, \"html.parser\")\n",
    "            text = soup.get_text()\n",
    "            with open(f\"dump/proza_ru_{url.split('/')[-1]}.txt\", \"w\", encoding=\"utf-8\") as file:\n",
    "                file.write(text)\n",
    "\n",
    "            for link in soup.find_all(\"a\"):\n",
    "                href = link.get(\"href\")\n",
    "                if href:\n",
    "                    next_url = urljoin(base_url, href)\n",
    "                    parsed_url = urlparse(next_url)\n",
    "                    if parsed_url.netloc == urlparse(base_url).netloc:\n",
    "                        crawl_page(next_url, depth + 1, max_depth)\n",
    "    except Exception as e:\n",
    "        print(f\"Произошла ошибка: {str(e)}\")\n",
    "\n",
    "if __name__ == \"__main__\":\n",
    "    main_page_url = base_url\n",
    "    max_recursion_depth = 2 \n",
    "    crawl_page(main_page_url, depth=0, max_depth=max_recursion_depth)"
   ]
  },
  {
   "cell_type": "markdown",
   "id": "79cb93fa-0d7f-4645-8947-fe0c7c6d4b9e",
   "metadata": {},
   "source": [
    "#### Задача 8 (5 баллов). \n",
    "\n",
    "Некоторое лингвистическое исследование показало, что в дневниковых записях и подобных текстах (н-р, блоги ЖЖ) на 100 личных местоимений местоимения распределяются следующим образом:\n",
    "\n",
    "    я - 50 раз\n",
    "    ты - 5 раз\n",
    "    он/она/оно - 25 раз\n",
    "    мы - 3 раза\n",
    "    вы - 2 раза\n",
    "    они - 15 раз\n",
    "    \n",
    "Возьмите любой достаточно большой набор текстов (блоги ЖЖ, дневниковые записи) и проверьте, действительно ли в нем такое распределение местоимений (вам понадобится критерий хи-квадрат согласия). "
   ]
  },
  {
   "cell_type": "code",
   "execution_count": 65,
   "id": "38d28ef1",
   "metadata": {},
   "outputs": [
    {
     "name": "stdout",
     "output_type": "stream",
     "text": [
      "Корреляция Спирмена: 0.7714285714285715\n",
      "p-значение: 0.07239650145772594\n",
      "Нет статистически значимой корреляции между переменными.\n"
     ]
    }
   ],
   "source": [
    "from scipy.stats import spearmanr  \n",
    "import spacy\n",
    "import json\n",
    "\n",
    "nlp = spacy.load(\"ru_core_news_sm\")\n",
    "\n",
    "pronoun_counts = {\n",
    "    'я': 0,\n",
    "    'ты': 0,\n",
    "    'он/она/оно': 0,\n",
    "    'мы': 0,\n",
    "    'вы': 0,\n",
    "    'они': 0,\n",
    "}\n",
    "\n",
    "lemmatization_dict = {\n",
    "    'он/она/оно': ['он', 'она', 'оно']\n",
    "}\n",
    "\n",
    "with open('a1.json', 'r', encoding='utf-8') as json_file:\n",
    "    data = json.load(json_file)\n",
    "    for item in data:\n",
    "        text = item[\"text\"]\n",
    "        doc = nlp(text)\n",
    "        for token in doc:\n",
    "            lemma = token.lemma_.lower()\n",
    "            for key, values in lemmatization_dict.items():\n",
    "                if lemma in values:\n",
    "                    lemma = key  # Используем объединенную лемму\n",
    "            if lemma in pronoun_counts:\n",
    "                pronoun_counts[lemma] += 1\n",
    "\n",
    "expected_counts = {\n",
    "    'я': 50,\n",
    "    'ты': 5,\n",
    "    'он/она/оно': 25,\n",
    "    'мы': 3,\n",
    "    'вы': 2,\n",
    "    'они': 15,\n",
    "}\n",
    "\n",
    "observed = list(pronoun_counts.values())\n",
    "\n",
    "expected = list(expected_counts.values())\n",
    "\n",
    "correlation, p_value = spearmanr(observed, expected)\n",
    "\n",
    "print(\"Корреляция Спирмена:\", correlation)\n",
    "print(\"p-значение:\", p_value)\n",
    "\n",
    "alpha = 0.05\n",
    "if p_value < alpha:\n",
    "    print(\"Существует статистически значимая корреляция между переменными.\")\n",
    "else:\n",
    "    print(\"Нет статистически значимой корреляции между переменными.\")"
   ]
  }
 ],
 "metadata": {
  "kernelspec": {
   "display_name": "Python 3 (ipykernel)",
   "language": "python",
   "name": "python3"
  },
  "language_info": {
   "codemirror_mode": {
    "name": "ipython",
    "version": 3
   },
   "file_extension": ".py",
   "mimetype": "text/x-python",
   "name": "python",
   "nbconvert_exporter": "python",
   "pygments_lexer": "ipython3",
   "version": "3.11.5"
  }
 },
 "nbformat": 4,
 "nbformat_minor": 5
}
